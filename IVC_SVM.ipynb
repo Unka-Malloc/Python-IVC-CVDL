{
 "cells": [
  {
   "cell_type": "code",
   "execution_count": 1,
   "metadata": {
    "collapsed": true
   },
   "outputs": [],
   "source": [
    "import os\n",
    "import numpy as np\n",
    "import cv2\n",
    "import matplotlib.pyplot as plt\n",
    "import skimage.feature\n",
    "import skimage.exposure\n",
    "import skimage.io\n",
    "import skimage.transform\n",
    "import sklearn.model_selection\n",
    "import sklearn.metrics\n",
    "import sklearn.svm\n",
    "\n",
    "from sklearn.preprocessing import StandardScaler\n",
    "from sklearn.decomposition import PCA"
   ]
  },
  {
   "cell_type": "code",
   "execution_count": 2,
   "outputs": [],
   "source": [
    "path_train = r'dataset/train'\n",
    "path_valid = r'dataset/valid'\n",
    "\n",
    "label_ref = {\n",
    "    'black widow': 0,\n",
    "    'captain america': 1,\n",
    "    'doctor strange': 2,\n",
    "    'hulk': 3,\n",
    "    'ironman': 4,\n",
    "    'loki': 5,\n",
    "    'spider-man': 6,\n",
    "    'thanos': 7\n",
    "}"
   ],
   "metadata": {
    "collapsed": false,
    "pycharm": {
     "name": "#%%\n"
    }
   }
  },
  {
   "cell_type": "code",
   "execution_count": 3,
   "outputs": [],
   "source": [
    "def get_img_cls(data_path):\n",
    "    pic_labels = {}\n",
    "\n",
    "    for hero in os.listdir(data_path):\n",
    "        for pic in os.listdir(f'{data_path}/{hero}'):\n",
    "            pic_labels[f'{data_path}/{hero}/{pic}'] = label_ref[hero]\n",
    "\n",
    "    return pic_labels"
   ],
   "metadata": {
    "collapsed": false,
    "pycharm": {
     "name": "#%%\n"
    }
   }
  },
  {
   "cell_type": "code",
   "execution_count": 4,
   "outputs": [],
   "source": [
    "hog_img_size = (128, 64)\n",
    "hog_orientations = 8\n",
    "hog_pixels_per_cell = (16, 16)\n",
    "hog_cells_per_block = (1, 1)\n",
    "hog_channel_axis = -1\n",
    "\n",
    "def get_hog(resized_image):\n",
    "    return skimage.feature.hog(resized_image,\n",
    "                              orientations=hog_orientations,\n",
    "                              pixels_per_cell=hog_pixels_per_cell,\n",
    "                              cells_per_block=hog_cells_per_block,\n",
    "                              channel_axis=hog_channel_axis)"
   ],
   "metadata": {
    "collapsed": false,
    "pycharm": {
     "name": "#%%\n"
    }
   }
  },
  {
   "cell_type": "code",
   "execution_count": 5,
   "outputs": [],
   "source": [
    "train_img_cls = get_img_cls(path_train)\n",
    "\n",
    "X_list = []\n",
    "y_list = []\n",
    "\n",
    "for img in train_img_cls.keys():\n",
    "    img_data = skimage.io.imread(img)\n",
    "    resized_img = skimage.transform.resize(img_data, hog_img_size)\n",
    "    X_list.append(get_hog(resized_img))\n",
    "    y_list.append(train_img_cls[img])\n",
    "\n",
    "X = np.vstack(X_list)\n",
    "y = np.array(y_list)\n",
    "\n",
    "# X_train, X_test, y_train, y_test = sklearn.model_selection.train_test_split(X, y, test_size=0.2, random_state=10)"
   ],
   "metadata": {
    "collapsed": false,
    "pycharm": {
     "name": "#%%\n"
    }
   }
  },
  {
   "cell_type": "code",
   "execution_count": 6,
   "outputs": [
    {
     "name": "stdout",
     "output_type": "stream",
     "text": [
      "(2584, 256) (2584,)\n"
     ]
    }
   ],
   "source": [
    "print(X.shape, y.shape)"
   ],
   "metadata": {
    "collapsed": false,
    "pycharm": {
     "name": "#%%\n"
    }
   }
  },
  {
   "cell_type": "code",
   "execution_count": 7,
   "outputs": [],
   "source": [
    "valid_img_cls = get_img_cls(path_valid)\n",
    "\n",
    "valid_X_list = []\n",
    "valid_y_list = []\n",
    "\n",
    "for img in valid_img_cls.keys():\n",
    "    img_data = skimage.io.imread(img)\n",
    "    resized_img = skimage.transform.resize(img_data, hog_img_size)\n",
    "    valid_X_list.append(get_hog(resized_img))\n",
    "    valid_y_list.append(valid_img_cls[img])\n",
    "\n",
    "X_valid = np.vstack(valid_X_list)\n",
    "y_valid = np.array(valid_y_list)"
   ],
   "metadata": {
    "collapsed": false,
    "pycharm": {
     "name": "#%%\n"
    }
   }
  },
  {
   "cell_type": "code",
   "execution_count": 8,
   "outputs": [
    {
     "name": "stdout",
     "output_type": "stream",
     "text": [
      "(451, 256) (451,)\n"
     ]
    }
   ],
   "source": [
    "print(X_valid.shape, y_valid.shape)"
   ],
   "metadata": {
    "collapsed": false,
    "pycharm": {
     "name": "#%%\n"
    }
   }
  },
  {
   "cell_type": "code",
   "execution_count": 9,
   "outputs": [
    {
     "name": "stdout",
     "output_type": "stream",
     "text": [
      "[LibSVM]"
     ]
    },
    {
     "data": {
      "text/plain": "0.2616407982261641"
     },
     "execution_count": 9,
     "metadata": {},
     "output_type": "execute_result"
    }
   ],
   "source": [
    "svm_C = 9\n",
    "svm_gamma = 0.4 # rbf, poly, sigmoid\n",
    "svm_kernel = 'rbf'\n",
    "svm_degree = 3 # poly\n",
    "svm_coef = 0 # poly, sigmoid\n",
    "svm_decision = 'ovr'\n",
    "svm_shrink = True\n",
    "\n",
    "svm_model = sklearn.svm.SVC(C=svm_C,\n",
    "                            gamma=svm_gamma, #\n",
    "                            kernel=svm_kernel,\n",
    "                            coef0=svm_coef,\n",
    "                            decision_function_shape=svm_decision,\n",
    "                            shrinking=svm_shrink,\n",
    "                            verbose=True)\n",
    "svm_model.fit(X, y)\n",
    "\n",
    "y_pred = svm_model.predict(X_valid)\n",
    "sklearn.metrics.accuracy_score(y_valid, y_pred)"
   ],
   "metadata": {
    "collapsed": false,
    "pycharm": {
     "name": "#%%\n"
    }
   }
  },
  {
   "cell_type": "code",
   "execution_count": 10,
   "outputs": [
    {
     "data": {
      "text/plain": "\"\\nhog_img_size = (128, 64)\\nhog_orientations = 8\\nhog_pixels_per_cell = (16, 16)\\nhog_cells_per_block = (1, 1)\\nhog_channel_axis = -1\\n\\nsvm_C = 9\\nsvm_gamma = 0.4\\nsvm_kernal = 'rbf'\\nsvm_degree = 3\\nsvm_coef = 0\\nsvm_decision = 'ovr'\\n\\n0.2616407982261641\\n\""
     },
     "execution_count": 10,
     "metadata": {},
     "output_type": "execute_result"
    }
   ],
   "source": [
    "'''\n",
    "hog_img_size = (128, 64)\n",
    "hog_orientations = 8\n",
    "hog_pixels_per_cell = (16, 16)\n",
    "hog_cells_per_block = (1, 1)\n",
    "hog_channel_axis = -1\n",
    "\n",
    "svm_C = 9\n",
    "svm_gamma = 0.4\n",
    "svm_kernal = 'rbf'\n",
    "svm_degree = 3\n",
    "svm_coef = 0\n",
    "svm_decision = 'ovr'\n",
    "\n",
    "0.2616407982261641\n",
    "'''"
   ],
   "metadata": {
    "collapsed": false,
    "pycharm": {
     "name": "#%%\n"
    }
   }
  },
  {
   "cell_type": "code",
   "execution_count": 11,
   "outputs": [],
   "source": [
    "pca = PCA(n_components=2)\n",
    "principalComponents = pca.fit_transform(X)"
   ],
   "metadata": {
    "collapsed": false,
    "pycharm": {
     "name": "#%%\n"
    }
   }
  }
 ],
 "metadata": {
  "kernelspec": {
   "display_name": "Python 3",
   "language": "python",
   "name": "python3"
  },
  "language_info": {
   "codemirror_mode": {
    "name": "ipython",
    "version": 2
   },
   "file_extension": ".py",
   "mimetype": "text/x-python",
   "name": "python",
   "nbconvert_exporter": "python",
   "pygments_lexer": "ipython2",
   "version": "2.7.6"
  }
 },
 "nbformat": 4,
 "nbformat_minor": 0
}