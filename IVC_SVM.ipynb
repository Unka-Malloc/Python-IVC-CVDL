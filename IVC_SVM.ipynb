{
 "cells": [
  {
   "cell_type": "code",
   "execution_count": 231,
   "metadata": {
    "collapsed": true
   },
   "outputs": [],
   "source": [
    "import os\n",
    "import numpy as np\n",
    "import cv2\n",
    "import matplotlib.pyplot as plt\n",
    "import skimage.feature\n",
    "import skimage.exposure\n",
    "import skimage.io\n",
    "import sklearn.model_selection\n",
    "import skimage.transform\n",
    "import sklearn.metrics"
   ]
  },
  {
   "cell_type": "code",
   "execution_count": 232,
   "outputs": [],
   "source": [
    "path_train = r'dataset/train'\n",
    "path_valid = r'dataset/valid'\n",
    "\n",
    "label_ref = {\n",
    "    'black widow': 0,\n",
    "    'captain america': 1,\n",
    "    'doctor strange': 2,\n",
    "    'hulk': 3,\n",
    "    'ironman': 4,\n",
    "    'loki': 5,\n",
    "    'spider-man': 6,\n",
    "    'thanos': 7\n",
    "}"
   ],
   "metadata": {
    "collapsed": false,
    "pycharm": {
     "name": "#%%\n"
    }
   }
  },
  {
   "cell_type": "code",
   "execution_count": 233,
   "outputs": [],
   "source": [
    "def get_img_cls(data_path):\n",
    "    pic_labels = {}\n",
    "\n",
    "    for hero in os.listdir(data_path):\n",
    "        for pic in os.listdir(f'{path_train}/{hero}'):\n",
    "            pic_labels[f'{path_train}/{hero}/{pic}'] = label_ref[hero]\n",
    "\n",
    "    return pic_labels"
   ],
   "metadata": {
    "collapsed": false,
    "pycharm": {
     "name": "#%%\n"
    }
   }
  },
  {
   "cell_type": "code",
   "execution_count": 234,
   "outputs": [],
   "source": [
    "train_img_cls = get_img_cls(path_train)\n",
    "valid_img_cls = get_img_cls(path_valid)"
   ],
   "metadata": {
    "collapsed": false,
    "pycharm": {
     "name": "#%%\n"
    }
   }
  },
  {
   "cell_type": "code",
   "execution_count": 235,
   "outputs": [],
   "source": [
    "X_list = []\n",
    "y_list = []\n",
    "\n",
    "for img in train_img_cls.keys():\n",
    "    img_data = skimage.io.imread(img)\n",
    "    resized_img = skimage.transform.resize(img_data, (128, 64))\n",
    "    hog = skimage.feature.hog(resized_img, orientations=8, pixels_per_cell=(16, 16), cells_per_block=(1, 1), channel_axis=-1)\n",
    "    X_list.append(hog)\n",
    "    y_list.append(train_img_cls[img])\n",
    "\n",
    "X = np.vstack(X_list)\n",
    "y = np.array(y_list)\n",
    "\n",
    "# X_train, X_test, y_train, y_test = sklearn.model_selection.train_test_split(X, y, test_size=0.2, random_state=10)"
   ],
   "metadata": {
    "collapsed": false,
    "pycharm": {
     "name": "#%%\n"
    }
   }
  },
  {
   "cell_type": "code",
   "execution_count": 236,
   "outputs": [
    {
     "name": "stdout",
     "output_type": "stream",
     "text": [
      "(2584, 256) (2584,)\n"
     ]
    }
   ],
   "source": [
    "print(X.shape, y.shape)"
   ],
   "metadata": {
    "collapsed": false,
    "pycharm": {
     "name": "#%%\n"
    }
   }
  },
  {
   "cell_type": "code",
   "execution_count": 237,
   "outputs": [],
   "source": [
    "valid_X_list = []\n",
    "valid_y_list = []\n",
    "\n",
    "for img in valid_img_cls.keys():\n",
    "    img_data = skimage.io.imread(img)\n",
    "    resized_img = skimage.transform.resize(img_data, (128, 64))\n",
    "    hog = skimage.feature.hog(resized_img, orientations=8, pixels_per_cell=(16, 16), cells_per_block=(1, 1), channel_axis=-1)\n",
    "    valid_X_list.append(hog)\n",
    "    valid_y_list.append(train_img_cls[img])\n",
    "\n",
    "X_valid = np.vstack(X_list)\n",
    "y_valid = np.array(y_list)"
   ],
   "metadata": {
    "collapsed": false,
    "pycharm": {
     "name": "#%%\n"
    }
   }
  },
  {
   "cell_type": "code",
   "execution_count": 238,
   "outputs": [
    {
     "name": "stdout",
     "output_type": "stream",
     "text": [
      "(2584, 256) (2584,)\n"
     ]
    }
   ],
   "source": [
    "print(X_valid.shape, y_valid.shape)"
   ],
   "metadata": {
    "collapsed": false,
    "pycharm": {
     "name": "#%%\n"
    }
   }
  },
  {
   "cell_type": "code",
   "execution_count": 240,
   "outputs": [],
   "source": [
    "svm_model = sklearn.svm.SVC()\n",
    "svm_model.fit(X, y)\n",
    "\n",
    "y_pred = svm_model.predict(X_valid)"
   ],
   "metadata": {
    "collapsed": false,
    "pycharm": {
     "name": "#%%\n"
    }
   }
  },
  {
   "cell_type": "code",
   "execution_count": 241,
   "outputs": [
    {
     "data": {
      "text/plain": "0.5626934984520123"
     },
     "execution_count": 241,
     "metadata": {},
     "output_type": "execute_result"
    }
   ],
   "source": [
    "sklearn.metrics.accuracy_score(y_valid, y_pred)"
   ],
   "metadata": {
    "collapsed": false,
    "pycharm": {
     "name": "#%%\n"
    }
   }
  }
 ],
 "metadata": {
  "kernelspec": {
   "display_name": "Python 3",
   "language": "python",
   "name": "python3"
  },
  "language_info": {
   "codemirror_mode": {
    "name": "ipython",
    "version": 2
   },
   "file_extension": ".py",
   "mimetype": "text/x-python",
   "name": "python",
   "nbconvert_exporter": "python",
   "pygments_lexer": "ipython2",
   "version": "2.7.6"
  }
 },
 "nbformat": 4,
 "nbformat_minor": 0
}